{
 "cells": [
  {
   "cell_type": "code",
   "execution_count": 19,
   "id": "79231121-4224-4960-a020-f3470b1ea2ea",
   "metadata": {},
   "outputs": [],
   "source": [
    "import pandas as pd\n",
    "import geopandas as gpd"
   ]
  },
  {
   "cell_type": "code",
   "execution_count": 20,
   "id": "fc182196-f488-4f49-841e-c3919bb7e202",
   "metadata": {},
   "outputs": [],
   "source": [
    "unions = gpd.read_file('../../preprocessing/geodata/maps/dist/uni/uni-c005-s020-vw-pr.geojson')\n",
    "mouzas = gpd.read_file('../../preprocessing/geodata/maps/dist/mou/mou-c005-s020-vw-pr.geojson')"
   ]
  },
  {
   "cell_type": "code",
   "execution_count": 26,
   "id": "6c463897-1b61-4877-a2d9-b3246fb19c37",
   "metadata": {},
   "outputs": [],
   "source": [
    "unions['region_key'] = unions['div'] + '-' + unions['dis'] + '-' + unions['upa'] + '-' + mouzas['uni']\n",
    "mouzas['region_key'] = mouzas['div'] + '-' + mouzas['dis'] + '-' + mouzas['upa'] + '-' + mouzas['uni'] + '-' + mouzas['mou']"
   ]
  },
  {
   "cell_type": "code",
   "execution_count": 27,
   "id": "c624f48b-db5e-4429-9028-366a2606c5f7",
   "metadata": {},
   "outputs": [],
   "source": [
    "unions.sort_values(by=['region_key'], inplace=True)\n",
    "mouzas.sort_values(by=['region_key'], inplace=True)"
   ]
  },
  {
   "cell_type": "code",
   "execution_count": 28,
   "id": "9280e90f-b248-4193-97cf-5203b127c23b",
   "metadata": {},
   "outputs": [],
   "source": [
    "def number_region_keys(df):\n",
    "    prev_region_key = ''\n",
    "    region_key_index = 0\n",
    "    region_key_indexes = []\n",
    "    for i, row in df.iterrows():\n",
    "        if row['region_key'] != prev_region_key:\n",
    "            region_key_index += 1\n",
    "            prev_region_key = row['region_key']\n",
    "        region_key_indexes.append(region_key_index)\n",
    "    return region_key_indexes\n",
    "\n",
    "unions['region_key_index'] = number_region_keys(unions)\n",
    "mouzas['region_key_index'] = number_region_keys(mouzas)"
   ]
  },
  {
   "cell_type": "code",
   "execution_count": 49,
   "id": "1e6b8bf5-b9e6-4cb3-b106-71cf13244eae",
   "metadata": {},
   "outputs": [
    {
     "name": "stdout",
     "output_type": "stream",
     "text": [
      "288\n",
      "174\n"
     ]
    }
   ],
   "source": [
    "# how many regions have duplicate keys\n",
    "mrkivc = mouzas['region_key_index'].value_counts()\n",
    "urkivc = unions['region_key_index'].value_counts()\n",
    "\n",
    "print(len(mrkivc[mrkivc > 1]))\n",
    "print(len(urkivc[urkivc > 1]))"
   ]
  },
  {
   "cell_type": "code",
   "execution_count": 30,
   "id": "533734af-57d1-4d5f-99a7-2752e4acda80",
   "metadata": {},
   "outputs": [
    {
     "data": {
      "text/html": [
       "<div>\n",
       "<style scoped>\n",
       "    .dataframe tbody tr th:only-of-type {\n",
       "        vertical-align: middle;\n",
       "    }\n",
       "\n",
       "    .dataframe tbody tr th {\n",
       "        vertical-align: top;\n",
       "    }\n",
       "\n",
       "    .dataframe thead th {\n",
       "        text-align: right;\n",
       "    }\n",
       "</style>\n",
       "<table border=\"1\" class=\"dataframe\">\n",
       "  <thead>\n",
       "    <tr style=\"text-align: right;\">\n",
       "      <th></th>\n",
       "      <th>area</th>\n",
       "      <th>uni</th>\n",
       "      <th>upa</th>\n",
       "      <th>dis</th>\n",
       "      <th>div</th>\n",
       "      <th>geometry</th>\n",
       "      <th>region_key</th>\n",
       "      <th>region_key_index</th>\n",
       "    </tr>\n",
       "  </thead>\n",
       "  <tbody>\n",
       "    <tr>\n",
       "      <th>139</th>\n",
       "      <td>0.003604</td>\n",
       "      <td>Amtali</td>\n",
       "      <td>Amtali</td>\n",
       "      <td>Barguna</td>\n",
       "      <td>Barisal</td>\n",
       "      <td>MULTIPOLYGON (((90.26177 22.12995, 90.26153 22...</td>\n",
       "      <td>Barisal-Barguna-Amtali-Bara Palashbari</td>\n",
       "      <td>1</td>\n",
       "    </tr>\n",
       "    <tr>\n",
       "      <th>2802</th>\n",
       "      <td>0.003158</td>\n",
       "      <td>Kukua</td>\n",
       "      <td>Amtali</td>\n",
       "      <td>Barguna</td>\n",
       "      <td>Barisal</td>\n",
       "      <td>MULTIPOLYGON (((90.29924 22.24284, 90.2993 22....</td>\n",
       "      <td>Barisal-Barguna-Amtali-Baura</td>\n",
       "      <td>2</td>\n",
       "    </tr>\n",
       "    <tr>\n",
       "      <th>510</th>\n",
       "      <td>0.003742</td>\n",
       "      <td>Barabagi</td>\n",
       "      <td>Amtali</td>\n",
       "      <td>Barguna</td>\n",
       "      <td>Barisal</td>\n",
       "      <td>MULTIPOLYGON (((90.13209 21.9942, 90.13292 21....</td>\n",
       "      <td>Barisal-Barguna-Amtali-Dangi Para</td>\n",
       "      <td>3</td>\n",
       "    </tr>\n",
       "    <tr>\n",
       "      <th>4517</th>\n",
       "      <td>0.002120</td>\n",
       "      <td>Sonakata</td>\n",
       "      <td>Amtali</td>\n",
       "      <td>Barguna</td>\n",
       "      <td>Barisal</td>\n",
       "      <td>MULTIPOLYGON (((90.08972 21.9048, 90.09014 21....</td>\n",
       "      <td>Barisal-Barguna-Amtali-Darbasta</td>\n",
       "      <td>4</td>\n",
       "    </tr>\n",
       "    <tr>\n",
       "      <th>3631</th>\n",
       "      <td>0.002181</td>\n",
       "      <td>Pancha Koralia</td>\n",
       "      <td>Amtali</td>\n",
       "      <td>Barguna</td>\n",
       "      <td>Barisal</td>\n",
       "      <td>MULTIPOLYGON (((90.1855 22.08414, 90.18581 22....</td>\n",
       "      <td>Barisal-Barguna-Amtali-Gunaigachh</td>\n",
       "      <td>5</td>\n",
       "    </tr>\n",
       "  </tbody>\n",
       "</table>\n",
       "</div>"
      ],
      "text/plain": [
       "          area             uni     upa      dis      div  \\\n",
       "139   0.003604          Amtali  Amtali  Barguna  Barisal   \n",
       "2802  0.003158           Kukua  Amtali  Barguna  Barisal   \n",
       "510   0.003742        Barabagi  Amtali  Barguna  Barisal   \n",
       "4517  0.002120        Sonakata  Amtali  Barguna  Barisal   \n",
       "3631  0.002181  Pancha Koralia  Amtali  Barguna  Barisal   \n",
       "\n",
       "                                               geometry  \\\n",
       "139   MULTIPOLYGON (((90.26177 22.12995, 90.26153 22...   \n",
       "2802  MULTIPOLYGON (((90.29924 22.24284, 90.2993 22....   \n",
       "510   MULTIPOLYGON (((90.13209 21.9942, 90.13292 21....   \n",
       "4517  MULTIPOLYGON (((90.08972 21.9048, 90.09014 21....   \n",
       "3631  MULTIPOLYGON (((90.1855 22.08414, 90.18581 22....   \n",
       "\n",
       "                                  region_key  region_key_index  \n",
       "139   Barisal-Barguna-Amtali-Bara Palashbari                 1  \n",
       "2802            Barisal-Barguna-Amtali-Baura                 2  \n",
       "510        Barisal-Barguna-Amtali-Dangi Para                 3  \n",
       "4517         Barisal-Barguna-Amtali-Darbasta                 4  \n",
       "3631       Barisal-Barguna-Amtali-Gunaigachh                 5  "
      ]
     },
     "execution_count": 30,
     "metadata": {},
     "output_type": "execute_result"
    }
   ],
   "source": []
  },
  {
   "cell_type": "code",
   "execution_count": null,
   "id": "c1224008-ade5-4465-923c-405eb97477c6",
   "metadata": {},
   "outputs": [],
   "source": []
  }
 ],
 "metadata": {
  "kernelspec": {
   "display_name": "Python 3 (ipykernel)",
   "language": "python",
   "name": "python3"
  },
  "language_info": {
   "codemirror_mode": {
    "name": "ipython",
    "version": 3
   },
   "file_extension": ".py",
   "mimetype": "text/x-python",
   "name": "python",
   "nbconvert_exporter": "python",
   "pygments_lexer": "ipython3",
   "version": "3.10.12"
  }
 },
 "nbformat": 4,
 "nbformat_minor": 5
}
